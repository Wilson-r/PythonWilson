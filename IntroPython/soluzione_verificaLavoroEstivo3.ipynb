{
  "nbformat": 4,
  "nbformat_minor": 0,
  "metadata": {
    "colab": {
      "name": "soluzione_verificaLavoroEstivo3.ipynb",
      "provenance": [],
      "collapsed_sections": []
    },
    "kernelspec": {
      "name": "python3",
      "display_name": "Python 3"
    },
    "language_info": {
      "name": "python"
    }
  },
  "cells": [
    {
      "cell_type": "markdown",
      "metadata": {
        "id": "whL6GjkkJq18"
      },
      "source": [
        "es 1 "
      ]
    },
    {
      "cell_type": "code",
      "metadata": {
        "colab": {
          "base_uri": "https://localhost:8080/"
        },
        "id": "6LofcBzWJkTh",
        "outputId": "4c50495c-3372-4698-ce26-93bdff01043c"
      },
      "source": [
        "import math \n",
        "x, y = int(input(\"Inserisci la prima x: \")), int(input(\"Insersci la prima y; \"))\n",
        "x1, y1 = int(input(\"Inserisci la seconda x: \")), int(input(\"Insersci la seconda y; \"))\n",
        "\n",
        "print(math.sqrt((x1-x)**2 + (y1-y)**2))"
      ],
      "execution_count": null,
      "outputs": [
        {
          "output_type": "stream",
          "name": "stdout",
          "text": [
            "Inserisci la prima x: 3\n",
            "Insersci la prima y; 6\n",
            "Inserisci la seconda x: 4\n",
            "Insersci la seconda y; 5\n",
            "1.4142135623730951\n"
          ]
        }
      ]
    },
    {
      "cell_type": "markdown",
      "metadata": {
        "id": "neb3zJB9L7ZM"
      },
      "source": [
        "es 2"
      ]
    },
    {
      "cell_type": "code",
      "metadata": {
        "id": "TXKg4SzjL8QM"
      },
      "source": [
        "x, y, z = int(input(\"Inserisci lato 1: \")), int(input(\"Insersci lato 2: \")), int(input(\"Inserisci lato 3: \"))\n",
        "if x + y >= z and y + z >= x and x + z >= y :\n",
        "  print(\"è un triangolo\")\n",
        "else:\n",
        "  print(\"Non è un triangolo\")"
      ],
      "execution_count": null,
      "outputs": []
    },
    {
      "cell_type": "markdown",
      "metadata": {
        "id": "t_7ZtGU7N6mD"
      },
      "source": [
        "es 3"
      ]
    },
    {
      "cell_type": "code",
      "metadata": {
        "colab": {
          "base_uri": "https://localhost:8080/"
        },
        "id": "3-lR_DhEN6FT",
        "outputId": "160bb45a-65bb-4442-b921-002e57e9dd52"
      },
      "source": [
        "lst = [int(n) for n in input(\"Inserisci i numeri: \").split()]\n",
        "val = int(input(\"Inserisci valore: \"))\n",
        "lst1 = []\n",
        "i = 0\n",
        "while i < len(lst) and val != lst[i] :\n",
        "  lst1.append(lst[i])\n",
        "  i += 1\n",
        "\n",
        "\n",
        "print(lst, lst1)"
      ],
      "execution_count": null,
      "outputs": [
        {
          "output_type": "stream",
          "name": "stdout",
          "text": [
            "Inserisci i numeri: 1 2 3 4 5\n",
            "Inserisci valore: 7\n",
            "[1, 2, 3, 4, 5] [1, 2, 3, 4, 5]\n"
          ]
        }
      ]
    },
    {
      "cell_type": "markdown",
      "metadata": {
        "id": "biLnxJ6wZ-Q2"
      },
      "source": [
        "es 4"
      ]
    },
    {
      "cell_type": "code",
      "metadata": {
        "id": "h5Cp2yu4aCMW",
        "colab": {
          "base_uri": "https://localhost:8080/"
        },
        "outputId": "757c4062-fba8-4d22-edaf-aa8d165b21a9"
      },
      "source": [
        "numeri = [int(n) for n in input(\"Inserisci i numeri: \").split()]\n",
        "numeriSettata = set(numeri)\n",
        "verifica = len(numeri) != len(numeriSettata)\n",
        "print(verifica)"
      ],
      "execution_count": null,
      "outputs": [
        {
          "output_type": "stream",
          "name": "stdout",
          "text": [
            "Inserisci i numeri: 1 2 34\n",
            "False\n"
          ]
        }
      ]
    },
    {
      "cell_type": "markdown",
      "metadata": {
        "id": "qhE6FMwhctJy"
      },
      "source": [
        "es 5"
      ]
    },
    {
      "cell_type": "code",
      "metadata": {
        "id": "-lTUOF1Ccu08",
        "colab": {
          "base_uri": "https://localhost:8080/"
        },
        "outputId": "39db0601-d274-48f7-e467-1524ce0d6add"
      },
      "source": [
        "lista = [int(n) for n in input(\"Inserisci i numeri: \").split()]\n",
        "lista1 = [int(n) for n in input(\"Inserisci i numeri: \").split()]\n",
        "listaSettata = set(lista)\n",
        "lista1Settata = set(lista1)\n",
        "\n",
        "if listaSettata.intersection(lista1Settata) == set():\n",
        "  print(\"True\")\n",
        "else:\n",
        "  print(\"False\")"
      ],
      "execution_count": null,
      "outputs": [
        {
          "output_type": "stream",
          "name": "stdout",
          "text": [
            "Inserisci i numeri: 1 2 3 4\n",
            "Inserisci i numeri: 1 2 3 4\n",
            "False\n"
          ]
        }
      ]
    },
    {
      "cell_type": "markdown",
      "metadata": {
        "id": "m-ttSJf2d0bq"
      },
      "source": [
        "es 6"
      ]
    },
    {
      "cell_type": "code",
      "metadata": {
        "colab": {
          "base_uri": "https://localhost:8080/"
        },
        "id": "nPTyHtSFdz7n",
        "outputId": "209fc774-05cd-4e86-9b1c-ac6c53657f60"
      },
      "source": [
        "lst= [1, 2, 3,[5, 6], 4] \n",
        "lst2 = [5, 6]\n",
        "\n",
        "if lst2 in lst: \n",
        "\tprint(\"Presente all'interno della lista\") \n",
        "else: \n",
        "\tprint(\"Non presente all'interno della lista \") "
      ],
      "execution_count": null,
      "outputs": [
        {
          "output_type": "stream",
          "name": "stdout",
          "text": [
            "Lista non presente\n"
          ]
        }
      ]
    },
    {
      "cell_type": "markdown",
      "metadata": {
        "id": "OczuDiHGeQ_A"
      },
      "source": [
        "es 7"
      ]
    },
    {
      "cell_type": "code",
      "metadata": {
        "colab": {
          "base_uri": "https://localhost:8080/"
        },
        "id": "K6DHngHFeR1Z",
        "outputId": "624a5cd2-a8cf-4752-a7a7-84c883b4dbe0"
      },
      "source": [
        "numero = int(input(\"Inserire il numero del quale si vuole avere la tabellina: \"))\n",
        "tabellina = {}\n",
        "\n",
        "for n in range(1, 11):\n",
        "  tabellina[n] = numero * n\n",
        "print(tabellina)"
      ],
      "execution_count": null,
      "outputs": [
        {
          "output_type": "stream",
          "name": "stdout",
          "text": [
            "Inserire il numero del quale si vuole avere la tabellina: 10\n",
            "{1: 10, 2: 20, 3: 30, 4: 40, 5: 50, 6: 60, 7: 70, 8: 80, 9: 90, 10: 100}\n"
          ]
        }
      ]
    },
    {
      "cell_type": "markdown",
      "metadata": {
        "id": "iUZiehla33xu"
      },
      "source": [
        "es 8"
      ]
    },
    {
      "cell_type": "code",
      "metadata": {
        "colab": {
          "base_uri": "https://localhost:8080/"
        },
        "id": "5apVYVbO35SW",
        "outputId": "fb3a2194-a465-41c6-8e2b-07ff3f99f3e2"
      },
      "source": [
        "import collections\n",
        "frase = input(\"Inserisci frase: \")\n",
        "parole = frase.split()\n",
        "nParole = collections.Counter(parole)\n",
        "for parola, n in nParole.items():\n",
        "  print(parola , \"compare\" , n, \"volte\")"
      ],
      "execution_count": null,
      "outputs": [
        {
          "output_type": "stream",
          "name": "stdout",
          "text": [
            "Inserisci frase: ciao ciao mi chiamo\n",
            "ciao compare 2 volte\n",
            "mi compare 1 volte\n",
            "chiamo compare 1 volte\n"
          ]
        }
      ]
    },
    {
      "cell_type": "markdown",
      "metadata": {
        "id": "-w3a4-ELfnGX"
      },
      "source": [
        "es 9"
      ]
    },
    {
      "cell_type": "code",
      "metadata": {
        "colab": {
          "base_uri": "https://localhost:8080/"
        },
        "id": "I4jMXfRpfn2i",
        "outputId": "51d03cdc-4861-4888-f61f-bdac4d65cae2"
      },
      "source": [
        "QuartaEinf = [{\"cognome\" :\"Bianchi\", \"voto\": 6, \"telefono\" : \"3287651593\"}, {\"cognome\": \"Neri\", \"voto\": 8}, {\"cognome\": \"Gialli\", \"voto\": 3}, {\"cognome\" : \"Rossi\", \"voto\" : 4}, {\"cognome\" : \"Verdi\", \"voto\" : 10}]\n",
        "for item in QuartaEinf:\n",
        "  if item[\"voto\"] >= 6:\n",
        "        print(\"Lo studente\" ,item[\"cognome\"], \"è sufficiente\")"
      ],
      "execution_count": null,
      "outputs": [
        {
          "output_type": "stream",
          "name": "stdout",
          "text": [
            "Lo studente Bianchi è sufficiente\n",
            "Lo studente Neri è sufficiente\n",
            "Lo studente Verdi è sufficiente\n"
          ]
        }
      ]
    }
  ]
}