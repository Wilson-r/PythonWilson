{
  "nbformat": 4,
  "nbformat_minor": 0,
  "metadata": {
    "colab": {
      "name": "soluzione verifica_lavoroEstivo2.ipynb",
      "provenance": [],
      "collapsed_sections": []
    },
    "kernelspec": {
      "name": "python3",
      "display_name": "Python 3"
    },
    "language_info": {
      "name": "python"
    }
  },
  "cells": [
    {
      "cell_type": "markdown",
      "metadata": {
        "id": "F5wnkXj8F0Bc"
      },
      "source": [
        "Caricare una lista di 10 città italiane visualizzandole in ordine decrescente e crescente in base alla lunshezza del nome della cità"
      ]
    },
    {
      "cell_type": "code",
      "metadata": {
        "colab": {
          "base_uri": "https://localhost:8080/"
        },
        "id": "X1vjEpUDFy6R",
        "outputId": "0977b428-82e7-4c1d-d637-e8e79c3747be"
      },
      "source": [
        "città = [\"Roma\", \"Como\", \"Bra\", \"Bari\", \"Milano\", \"Pisa\", \"Varese\", \"Lecco\"]\n",
        "città_crescente = sorted(città, key=len)\n",
        "print(città_crescente)\n",
        "città_decrescente = sorted(città, key=len, reverse =True)\n",
        "print(città_decrescente)\n"
      ],
      "execution_count": null,
      "outputs": [
        {
          "output_type": "stream",
          "name": "stdout",
          "text": [
            "['Bra', 'Roma', 'Como', 'Bari', 'Pisa', 'Lecco', 'Milano', 'Varese']\n",
            "['Milano', 'Varese', 'Lecco', 'Roma', 'Como', 'Bari', 'Pisa', 'Bra']\n"
          ]
        }
      ]
    },
    {
      "cell_type": "markdown",
      "metadata": {
        "id": "kJGhMZ0-JocN"
      },
      "source": [
        "data una lista di città elimini i doppioni se presenti"
      ]
    },
    {
      "cell_type": "code",
      "metadata": {
        "colab": {
          "base_uri": "https://localhost:8080/"
        },
        "id": "Ed4hS3WzJwWT",
        "outputId": "212e81d0-c44d-4f32-b584-1721dcc1da6e"
      },
      "source": [
        "città.extend([\"Lecco\", \"Milano\", \"Milano\"])\n",
        "print(città)\n",
        "cittaFinale = list(set(città))\n",
        "print(cittaFinale)"
      ],
      "execution_count": null,
      "outputs": [
        {
          "output_type": "stream",
          "name": "stdout",
          "text": [
            "['Roma', 'Como', 'Bra', 'Bari', 'Milano', 'Pisa', 'Varese', 'Lecco', 'Lecco', 'Milano', 'Milano', 'Lecco', 'Milano', 'Milano', 'Lecco', 'Milano', 'Milano', 'Lecco', 'Milano', 'Milano']\n",
            "['Bari', 'Milano', 'Como', 'Lecco', 'Varese', 'Bra', 'Pisa', 'Roma']\n"
          ]
        }
      ]
    },
    {
      "cell_type": "markdown",
      "metadata": {
        "id": "Fa78o7d2M0VV"
      },
      "source": [
        "date 2 liste visualizzare le città presenti in entrambe\n"
      ]
    },
    {
      "cell_type": "code",
      "metadata": {
        "colab": {
          "base_uri": "https://localhost:8080/"
        },
        "id": "c332_Wa7NTZM",
        "outputId": "6c95df82-e5ee-4d8b-ba0c-03f06602247a"
      },
      "source": [
        "citta1 = ['Bari', 'Milano', 'Como', 'Lecco', 'Varese', 'Bra', 'Pisa', 'Roma']\n",
        "citta2 = ['Napoli', 'Palermo', 'Como', 'Lecco', 'Varese', 'Bra', 'Pisa', 'Roma']\n",
        "cittaComune = list(set(citta1).intersection(citta2))\n",
        "print(cittaComune)"
      ],
      "execution_count": null,
      "outputs": [
        {
          "output_type": "stream",
          "name": "stdout",
          "text": [
            "['Como', 'Lecco', 'Varese', 'Bra', 'Pisa', 'Roma']\n"
          ]
        }
      ]
    },
    {
      "cell_type": "markdown",
      "metadata": {
        "id": "lPOuTSBVO6Bt"
      },
      "source": [
        "caicare dizonario città regioni, visualizzare dizionario"
      ]
    },
    {
      "cell_type": "code",
      "metadata": {
        "colab": {
          "base_uri": "https://localhost:8080/"
        },
        "id": "4ucAdG9PPQVE",
        "outputId": "84b0e2ed-9b52-42f0-a8c4-8c1080e64256"
      },
      "source": [
        "d1 = {'Como': \"Lombardia\", 'Lecco':\"Lomabardia\", 'Varese': \"Lomabardia\", 'Bra':\"Piemonte\", 'Pisa': \"Toscana\", 'Roma':\"Lazio\"}\n",
        "print(d1.items())"
      ],
      "execution_count": null,
      "outputs": [
        {
          "output_type": "stream",
          "name": "stdout",
          "text": [
            "dict_items([('Como', 'Lombardia'), ('Lecco', 'Lomabardia'), ('Varese', 'Lomabardia'), ('Bra', 'Piemonte'), ('Pisa', 'Toscana'), ('Roma', 'Lazio')])\n"
          ]
        }
      ]
    },
    {
      "cell_type": "markdown",
      "metadata": {
        "id": "7PPtfo6LjJeY"
      },
      "source": [
        "Scrivere un programma che acquisisca il nome di una città e dica in quale regione si trova (utilizzare il dizionario creato precedentemente)"
      ]
    },
    {
      "cell_type": "code",
      "metadata": {
        "colab": {
          "base_uri": "https://localhost:8080/"
        },
        "id": "K3KxlOLbjKdj",
        "outputId": "44023cec-4499-4b0e-f4a3-0e490d0faa71"
      },
      "source": [
        "citta = input(\"Inserisci il nome di una città: \")\n",
        "d1 = {'Como': \"Lombardia\", 'Lecco':\"Lombardia\", 'Varese': \"Lomabardia\", 'Bra':\"Piemonte\", 'Pisa': \"Toscana\", 'Roma':\"Lazio\"}\n",
        "print(citta + \" si trova in \" + d1.get(citta))\n",
        "                                   #d1[citta]\n",
        "\n",
        "#for citta, regione in d1.items():\n",
        "  #print(citta, \"si trova in regione\" , regione)"
      ],
      "execution_count": null,
      "outputs": [
        {
          "output_type": "stream",
          "name": "stdout",
          "text": [
            "Inserisci il nome di una città: Bra\n",
            "Bra si trova in Piemonte\n",
            "Como si trova in regione Lombardia\n",
            "Lecco si trova in regione Lombardia\n",
            "Varese si trova in regione Lomabardia\n",
            "Bra si trova in regione Piemonte\n",
            "Pisa si trova in regione Toscana\n",
            "Roma si trova in regione Lazio\n"
          ]
        }
      ]
    },
    {
      "cell_type": "markdown",
      "metadata": {
        "id": "i3GrOI9KkRO3"
      },
      "source": [
        "Scrivere un programma che carichi in una lista tutti i numeri pari minori di 100"
      ]
    },
    {
      "cell_type": "code",
      "metadata": {
        "colab": {
          "base_uri": "https://localhost:8080/"
        },
        "id": "Brku2ZJgkWb0",
        "outputId": "d77ae8c9-77ab-4666-8389-e671db2268fc"
      },
      "source": [
        "listaNumeriPari= [n for n in range(100) if n % 2 == 0]\n",
        "lst = [x for x in range(0, 101, 2)]\n",
        "lstStr = [str(x) for x in range(0, 101, 2)]\n",
        "#list comprehesion, quando diamo istruzioni all'interno delle parentesi quadre\n",
        "print(listaNumeriPari)\n",
        "print(lst)\n",
        "print(lstStr)"
      ],
      "execution_count": null,
      "outputs": [
        {
          "output_type": "stream",
          "name": "stdout",
          "text": [
            "[0, 2, 4, 6, 8, 10, 12, 14, 16, 18, 20, 22, 24, 26, 28, 30, 32, 34, 36, 38, 40, 42, 44, 46, 48, 50, 52, 54, 56, 58, 60, 62, 64, 66, 68, 70, 72, 74, 76, 78, 80, 82, 84, 86, 88, 90, 92, 94, 96, 98]\n",
            "[0, 2, 4, 6, 8, 10, 12, 14, 16, 18, 20, 22, 24, 26, 28, 30, 32, 34, 36, 38, 40, 42, 44, 46, 48, 50, 52, 54, 56, 58, 60, 62, 64, 66, 68, 70, 72, 74, 76, 78, 80, 82, 84, 86, 88, 90, 92, 94, 96, 98, 100]\n",
            "['0', '2', '4', '6', '8', '10', '12', '14', '16', '18', '20', '22', '24', '26', '28', '30', '32', '34', '36', '38', '40', '42', '44', '46', '48', '50', '52', '54', '56', '58', '60', '62', '64', '66', '68', '70', '72', '74', '76', '78', '80', '82', '84', '86', '88', '90', '92', '94', '96', '98', '100']\n"
          ]
        }
      ]
    },
    {
      "cell_type": "markdown",
      "metadata": {
        "id": "7KdFQtVml3YK"
      },
      "source": [
        "Scrivere un programma che carichi in una lista tutti i numeri interi compresi tra due estremi inseriti dall’utente. Il programma deve poi caricare in un’altra lista tutti i multipli di tre presenti nella lista di partenza. Visualizzare al termine entrambe le liste."
      ]
    },
    {
      "cell_type": "code",
      "metadata": {
        "colab": {
          "base_uri": "https://localhost:8080/"
        },
        "id": "qBAyFjvDl8j9",
        "outputId": "1efa44e0-a011-45c9-8e96-e2ad6c30353f"
      },
      "source": [
        "#estremo1 = int(input(\"Inserisci numero di partenza: \"))\n",
        "#estremo2 = int(input(\"Inserisci numero finale: \"))\n",
        "#lista = []\n",
        "#multipliDiTre = []\n",
        "#for x in range(estremo1, estremo2):\n",
        "#  if x > estremo1 and x < estremo2:\n",
        "#    lista.append(x)\n",
        "\n",
        "#for n in lista:\n",
        "#  if n % 3 ==0:\n",
        "#    multipliDiTre.append(n)\n",
        "\n",
        "#print(lista)\n",
        "#print(multipliDiTre)\n",
        "\n",
        "lista = [n1 for n1 in range(int(input(\"Primo numero \")), int(input(\"Secondo numero \")) + 1)]\n",
        "print(lista)\n",
        "listaMultipliTre = [n2 for n2 in lista if n2 % 3 == 0]\n",
        "print(listaMultipliTre)"
      ],
      "execution_count": null,
      "outputs": [
        {
          "output_type": "stream",
          "name": "stdout",
          "text": [
            "Primo numero 4\n",
            "Secondo numero 50\n",
            "[4, 5, 6, 7, 8, 9, 10, 11, 12, 13, 14, 15, 16, 17, 18, 19, 20, 21, 22, 23, 24, 25, 26, 27, 28, 29, 30, 31, 32, 33, 34, 35, 36, 37, 38, 39, 40, 41, 42, 43, 44, 45, 46, 47, 48, 49, 50]\n",
            "[6, 9, 12, 15, 18, 21, 24, 27, 30, 33, 36, 39, 42, 45, 48]\n"
          ]
        }
      ]
    },
    {
      "cell_type": "markdown",
      "metadata": {
        "id": "yqei1SRMnSyq"
      },
      "source": [
        "Scrivere un programma che permetta all’utente di caricare in una lista una sequenza di numeri che termina con lo 0. Al termine del caricamento, visualizzare la lista."
      ]
    },
    {
      "cell_type": "code",
      "metadata": {
        "colab": {
          "base_uri": "https://localhost:8080/"
        },
        "id": "LAUlceSanYQp",
        "outputId": "108b6463-fb60-44d4-b0be-d18e827e696b"
      },
      "source": [
        "numeri = input(\"Inserisci i numeri: \").split()\n",
        "listaNumeri = [int(n) for n in numeri]\n",
        "\n",
        "for n in listaNumeri: \n",
        "  ultimoNumero = int(repr(n)[-1])\n",
        "  if ultimoNumero == 0:\n",
        "    print(\"Perfetto\")\n",
        "  else:\n",
        "    print(\"Numero sbagliato\")\n",
        "print(listaNumeri)\n",
        "\n",
        "\n",
        "#lista = list(map(int,  stringa.split))"
      ],
      "execution_count": null,
      "outputs": [
        {
          "output_type": "stream",
          "name": "stdout",
          "text": [
            "Inserisci i numeri: 11 20 30 41\n",
            "Numero sbagliato\n",
            "Perfetto\n",
            "Perfetto\n",
            "Numero sbagliato\n",
            "[11, 20, 30, 41]\n"
          ]
        }
      ]
    },
    {
      "cell_type": "markdown",
      "metadata": {
        "id": "gx8pHd3rvd2z"
      },
      "source": [
        "Scrivere una funzione lambda chiamata incrementa(x) che incrementa la x di 10 unità. Scrivere poi un programma che carichi una lista di 20 numeri casuali (compresi tra 1 e 100) e applichi la funzione agli elementi della lista appena creata. Visualizzare al termine entrambe le liste.\n"
      ]
    },
    {
      "cell_type": "code",
      "metadata": {
        "colab": {
          "base_uri": "https://localhost:8080/"
        },
        "id": "R2QT79jivkGJ",
        "outputId": "a133daf6-301d-484e-acc7-2a0300eae209"
      },
      "source": [
        "import random\n",
        "incrementa = lambda n: n + 10\n",
        "\n",
        "listaNumeriRandom = []\n",
        "listaIncrementata = []\n",
        "\n",
        "for i in range(20):\n",
        "  n = random.randint(1,101)\n",
        "  listaNumeriRandom.append(n)\n",
        "\n",
        "for n in listaNumeriRandom:\n",
        "  nIn = incrementa(n)\n",
        "  listaIncrementata.append(nIn)\n",
        "\n",
        "print(listaNumeriRandom)\n",
        "print(listaIncrementata)\n",
        "\n"
      ],
      "execution_count": null,
      "outputs": [
        {
          "output_type": "stream",
          "name": "stdout",
          "text": [
            "[56, 95, 97, 47, 88, 76, 65, 75, 3, 35, 91, 11, 83, 17, 60, 25, 89, 52, 31, 45]\n",
            "[66, 105, 107, 57, 98, 86, 75, 85, 13, 45, 101, 21, 93, 27, 70, 35, 99, 62, 41, 55]\n"
          ]
        }
      ]
    },
    {
      "cell_type": "code",
      "metadata": {
        "colab": {
          "base_uri": "https://localhost:8080/"
        },
        "id": "qU4N9ZdW-iw7",
        "outputId": "2de184e1-9d6c-42cd-d734-75716480fd0f"
      },
      "source": [
        "dictio = {\"ciao\" : 6, \"ciao2\": 2}\n",
        "if dictio.get"
      ],
      "execution_count": null,
      "outputs": [
        {
          "output_type": "stream",
          "name": "stdout",
          "text": [
            "fraseciao ciao mi chiamo\n",
            "['ciao', 'ciao', 'mi', 'chiamo']\n",
            "1\n"
          ]
        }
      ]
    }
  ]
}