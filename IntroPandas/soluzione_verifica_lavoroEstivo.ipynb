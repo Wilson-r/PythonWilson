{
  "nbformat": 4,
  "nbformat_minor": 0,
  "metadata": {
    "colab": {
      "name": "soluzione_verifica_lavoroEstivo.ipynb",
      "provenance": [],
      "collapsed_sections": []
    },
    "kernelspec": {
      "name": "python3",
      "display_name": "Python 3"
    },
    "language_info": {
      "name": "python"
    }
  },
  "cells": [
    {
      "cell_type": "markdown",
      "metadata": {
        "id": "xdzohPkT6w0t"
      },
      "source": [
        "Dati 3 numeri in input, calcolare la media"
      ]
    },
    {
      "cell_type": "code",
      "metadata": {
        "colab": {
          "base_uri": "https://localhost:8080/"
        },
        "id": "OliGfgSv6whJ",
        "outputId": "7c0005e2-3a37-4c9d-e181-4104d073d2cb"
      },
      "source": [
        "n1 = int(input(\"Inserisci il primo numero: \"))\n",
        "n2 = int(input(\"Inserisci il secondo numero: \"))\n",
        "n3 = int(input(\"Inserisci il terzo numero: \"))\n",
        "\n",
        "media = (n1 + n2 + n3) / 3\n",
        "print(media)\n"
      ],
      "execution_count": null,
      "outputs": [
        {
          "output_type": "stream",
          "name": "stdout",
          "text": [
            "Inserisci il primo numero: 1\n",
            "Inserisci il secondo numero: 2\n",
            "Inserisci il terzo numero: 3\n",
            "2.0\n"
          ]
        }
      ]
    },
    {
      "cell_type": "markdown",
      "metadata": {
        "id": "ajBqRbRd-oRo"
      },
      "source": [
        "Dato il raggio trovare l'area del cerchio con 2 cifre decimali"
      ]
    },
    {
      "cell_type": "code",
      "metadata": {
        "colab": {
          "base_uri": "https://localhost:8080/"
        },
        "id": "h9QEj9_k-pa-",
        "outputId": "de5fbf3f-00e4-4edd-f203-4c38019b48de"
      },
      "source": [
        "import math\n",
        "raggio = int(input(\"Inserisci il raggio: \"))\n",
        "areaCerchio = raggio**2 * math.pi\n",
        "areaFinale = round(areaCerchio, 2)\n",
        "print(areaFinale)\n"
      ],
      "execution_count": null,
      "outputs": [
        {
          "output_type": "stream",
          "name": "stdout",
          "text": [
            "Inserisci il raggio: 5\n",
            "78.54\n"
          ]
        }
      ]
    },
    {
      "cell_type": "markdown",
      "metadata": {
        "id": "vnsINULfDi3r"
      },
      "source": [
        "dato nome e cognome, visualizzare le inizili del nome e cognome in maiuscolo"
      ]
    },
    {
      "cell_type": "code",
      "metadata": {
        "colab": {
          "base_uri": "https://localhost:8080/"
        },
        "id": "Yx-ruP_XDsoL",
        "outputId": "9055cd2c-2a4a-46da-c5c3-6317c6c9cc73"
      },
      "source": [
        "nomeCognome = input(\"Inserisci nome e cognome: \")\n",
        "print(nomeCognome.title())"
      ],
      "execution_count": null,
      "outputs": [
        {
          "output_type": "stream",
          "name": "stdout",
          "text": [
            "Inserisci nome e cognome: nome cognome\n",
            "Nome Cognome\n"
          ]
        }
      ]
    },
    {
      "cell_type": "markdown",
      "metadata": {
        "id": "7agokafNE7lU"
      },
      "source": [
        "data una frase, contare il numero delle parole presenti"
      ]
    },
    {
      "cell_type": "code",
      "metadata": {
        "colab": {
          "base_uri": "https://localhost:8080/"
        },
        "id": "La0Mz8hIFEbS",
        "outputId": "2464cc50-1ceb-4ab5-e9cd-93b5a9ad75da"
      },
      "source": [
        "frase = input(\"Inserisci una frase: \")\n",
        "listaParole = frase.split()\n",
        "print(len(listaParole))\n",
        "print(len(frase.split()))\n"
      ],
      "execution_count": null,
      "outputs": [
        {
          "output_type": "stream",
          "name": "stdout",
          "text": [
            "Inserisci una frase: cioa mi chiamo\n",
            "3\n",
            "3\n"
          ]
        }
      ]
    },
    {
      "cell_type": "code",
      "metadata": {
        "colab": {
          "base_uri": "https://localhost:8080/"
        },
        "id": "feMo4lBrGalb",
        "outputId": "644323c9-16f1-4c29-e560-9c3880992026"
      },
      "source": [
        "print(len(input(\"Inserisci una frase: \").split()))"
      ],
      "execution_count": null,
      "outputs": [
        {
          "output_type": "stream",
          "name": "stdout",
          "text": [
            "Inserisci una frase: wow w owowowow\n",
            "3\n"
          ]
        }
      ]
    },
    {
      "cell_type": "markdown",
      "metadata": {
        "id": "GPT2K-EDGqqN"
      },
      "source": [
        "data una frase, visualizzare parole in ordine alfabaetico"
      ]
    },
    {
      "cell_type": "code",
      "metadata": {
        "colab": {
          "base_uri": "https://localhost:8080/"
        },
        "id": "iUHuher3GyNd",
        "outputId": "e029a5a0-88e4-4ecb-b779-080126182522"
      },
      "source": [
        "frase_ = input(\"Inserisci la frase: \")\n",
        "listaParole = frase.split()\n",
        "listaParole.sort()\n",
        "print(listaParole)"
      ],
      "execution_count": null,
      "outputs": [
        {
          "output_type": "stream",
          "name": "stdout",
          "text": [
            "Inserisci la frase: cioa mi chiamo \n",
            "['chiamo', 'cioa', 'mi']\n"
          ]
        }
      ]
    },
    {
      "cell_type": "markdown",
      "metadata": {
        "id": "lCVpbs5PIIrd"
      },
      "source": [
        "data una frase, visulaizzare le ultime 3 parole"
      ]
    },
    {
      "cell_type": "code",
      "metadata": {
        "colab": {
          "base_uri": "https://localhost:8080/"
        },
        "id": "gui-CfaNIOad",
        "outputId": "55513dea-dff8-4c7b-88c2-c390530da0e9"
      },
      "source": [
        "frase = \"data una frase, visulaizzare le ultime 3 parole\"\n",
        "listaParole = frase.split()\n",
        "print(listaParole)\n",
        "print(listaParole[-3:])"
      ],
      "execution_count": null,
      "outputs": [
        {
          "output_type": "stream",
          "name": "stdout",
          "text": [
            "['data', 'una', 'frase,', 'visulaizzare', 'le', 'ultime', '3', 'parole']\n",
            "['ultime', '3', 'parole']\n"
          ]
        }
      ]
    },
    {
      "cell_type": "markdown",
      "metadata": {
        "id": "wbocMMzZKfBw"
      },
      "source": [
        "data una frase, dire se è troppo corta o lunga"
      ]
    },
    {
      "cell_type": "code",
      "metadata": {
        "colab": {
          "base_uri": "https://localhost:8080/"
        },
        "id": "gRISomVAKo6I",
        "outputId": "34d26c69-888c-49a6-8ba9-e1030e1e653d"
      },
      "source": [
        "frase = input(\"Inserire la frase\")\n",
        "listaParole = frase.split()\n",
        "if len(listaParole) <= 5:\n",
        "  print(\"Frase troppo corta\")\n",
        "\n",
        "elif len(listaParole) >= 10:\n",
        "  print(\"Frase troppo lunga\")\n",
        "\n",
        "elif: \n",
        "  print(\"ok\")\n",
        "\n"
      ],
      "execution_count": null,
      "outputs": [
        {
          "output_type": "stream",
          "name": "stdout",
          "text": [
            "Inserire la fraseg g g g g g g g g g g g \n",
            "Frase troppo lunga\n"
          ]
        }
      ]
    },
    {
      "cell_type": "markdown",
      "metadata": {
        "id": "GTxh-Ud3Ui8U"
      },
      "source": [
        "dati 10 numeri, visualizzarne la media\n",
        "\n"
      ]
    },
    {
      "cell_type": "code",
      "metadata": {
        "colab": {
          "base_uri": "https://localhost:8080/"
        },
        "id": "huBqz14OUpMU",
        "outputId": "694253b3-5afe-42cc-9ef0-af480d7ee63a"
      },
      "source": [
        "import statistics\n",
        "numeri = input(\"Inserisci 10 numeri:\" ).split()\n",
        "numeri_ = [int(numero) for numero in numeri]\n",
        "print(statistics.mean(numeri_))"
      ],
      "execution_count": null,
      "outputs": [
        {
          "output_type": "stream",
          "name": "stdout",
          "text": [
            "Inserisci 10 numeri:1 2 3 4 5 6 7 8 9 10 \n",
            "5.5\n"
          ]
        }
      ]
    },
    {
      "cell_type": "markdown",
      "metadata": {
        "id": "YLNvgCrEZ9K0"
      },
      "source": [
        "dato un numero, restituire true se è pari, false se altrimenti no"
      ]
    },
    {
      "cell_type": "code",
      "metadata": {
        "colab": {
          "base_uri": "https://localhost:8080/"
        },
        "id": "58rpyHVmai7o",
        "outputId": "e695574f-47de-4383-904b-535264d70520"
      },
      "source": [
        "n = int(input(\"Inserisci un numero: \"))\n",
        "def is_even(n):\n",
        "  if n % 2 == 0:\n",
        "    print(\"il numero è PARI\")\n",
        "    return True\n",
        "    \n",
        "  else:\n",
        "    print(\"il numero è DISPARI\")\n",
        "    return False\n",
        "    \n",
        "\n",
        "is_even(n)"
      ],
      "execution_count": null,
      "outputs": [
        {
          "output_type": "stream",
          "name": "stdout",
          "text": [
            "Inserisci un numero: 2\n",
            " il numero è PARI\n"
          ]
        },
        {
          "output_type": "execute_result",
          "data": {
            "text/plain": [
              "True"
            ]
          },
          "metadata": {},
          "execution_count": 27
        }
      ]
    }
  ]
}