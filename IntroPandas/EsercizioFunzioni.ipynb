{
  "nbformat": 4,
  "nbformat_minor": 0,
  "metadata": {
    "colab": {
      "name": "EsercizioFunzioni.ipynb",
      "provenance": [],
      "collapsed_sections": []
    },
    "kernelspec": {
      "name": "python3",
      "display_name": "Python 3"
    },
    "language_info": {
      "name": "python"
    }
  },
  "cells": [
    {
      "cell_type": "markdown",
      "metadata": {
        "id": "u_iZOmKQizv9"
      },
      "source": [
        "1. scrivere una funzione chiamata media che dati due numeri restituisca la media. Utilizzare poi la funzione in un programma che acquisisca dall'utente due numeri e calcoli la media"
      ]
    },
    {
      "cell_type": "code",
      "metadata": {
        "colab": {
          "base_uri": "https://localhost:8080/"
        },
        "id": "0VcUJS90iufz",
        "outputId": "e8a2bad2-02df-44d8-d27a-f4ebf6527d53"
      },
      "source": [
        "# definizione funzione\n",
        "def media(X, Y):\n",
        "  Media = (X + Y) / 2\n",
        "  return Media\n",
        "\n",
        "#programma\n",
        "num1, num2 = int(input(\"Inserisci il primo numero: \")), int(input(\"Inserisci il secondo numero: \"))\n",
        "print(media(num1 , num2))\n",
        "\n",
        "mediaLambda = lambda x,y: (x + y) / 2\n",
        "print(mediaLambda(num1, num2))"
      ],
      "execution_count": null,
      "outputs": [
        {
          "output_type": "stream",
          "name": "stdout",
          "text": [
            "Inserisci il primo numero: 1 \n",
            "Inserisci il secondo numero: 3\n",
            "2.0\n",
            "2.0\n"
          ]
        }
      ]
    },
    {
      "cell_type": "markdown",
      "metadata": {
        "id": "wCyt7vsHj1uR"
      },
      "source": [
        "2. scrivere una funzione chiamata piuCorta che date due liste restituisca la lista con meno elementi. Utilizzare poi la funzione in un programma che acquisisca dall'utente due liste e visualizzi gli elementi della lista più corta"
      ]
    },
    {
      "cell_type": "code",
      "metadata": {
        "colab": {
          "base_uri": "https://localhost:8080/"
        },
        "id": "ZK1BcdUvT9sh",
        "outputId": "7c15c262-ca7e-41ba-9c76-86f8cde7a1ad"
      },
      "source": [
        "def piuCorta(lst, lst1):\n",
        "  if len(lst) < len(lst1):\n",
        "    return lst\n",
        "  else:\n",
        "    return lst1\n",
        "\n",
        "l1 = input(\"Inserisci elementi nella prima lista: \").split()\n",
        "l2 = input(\"Inserisci elementi nella seconda lista: \").split()\n",
        "\n",
        "print(piuCorta(l1, l2))\n"
      ],
      "execution_count": null,
      "outputs": [
        {
          "output_type": "stream",
          "name": "stdout",
          "text": [
            "Inserisci elementi nella prima lista: 1 2 3\n",
            "Inserisci elementi nella seconda lista: 3\n",
            "['3']\n"
          ]
        }
      ]
    },
    {
      "cell_type": "markdown",
      "metadata": {
        "id": "m9lzoYW1VPIy"
      },
      "source": [
        "3. scrivere una funzione chiamata costruisciLista che dati due numeri interi restituisca la lista formata da tutti i numeri interi compresi tra i due numeri dati. Utilizzare poi la funzione in un programma che acquisisca dall'utente due numeri e visualizzi la lista formata da tutti i numeri interi compresi tra i due numeri dati ma a partire dal più grande fino al più piccolo"
      ]
    },
    {
      "cell_type": "code",
      "metadata": {
        "colab": {
          "base_uri": "https://localhost:8080/"
        },
        "id": "dNfrjZvGVRIa",
        "outputId": "99082ee5-9aba-40fa-a3d1-46e489a83423"
      },
      "source": [
        "def costruisciLista(n, n1):\n",
        "  lista = [x for x in range(n+1, n1)]\n",
        "  lista.reverse()\n",
        "  return lista\n",
        "  \n",
        "n, n1 = int(input(\"Inserisci primo numero: \")), int(input(\"Inserisci secondo numero: \"))\n",
        "costruisciLista(n, n1)"
      ],
      "execution_count": null,
      "outputs": [
        {
          "name": "stdout",
          "output_type": "stream",
          "text": [
            "Inserisci primo numero: 1\n",
            "Inserisci secondo numero: 10\n"
          ]
        },
        {
          "output_type": "execute_result",
          "data": {
            "text/plain": [
              "[9, 8, 7, 6, 5, 4, 3, 2]"
            ]
          },
          "metadata": {},
          "execution_count": 19
        }
      ]
    },
    {
      "cell_type": "markdown",
      "metadata": {
        "id": "LYAYvyQUYBbJ"
      },
      "source": [
        "4. scrivere una funzione chiamata valoreAssoluto che dato un numero restituisca il suo valore assoluto. Utilizzare poi questa funzione per determinare il valore assoluto degli elementi di una lista inserita dall'utente."
      ]
    },
    {
      "cell_type": "code",
      "metadata": {
        "colab": {
          "base_uri": "https://localhost:8080/"
        },
        "id": "dug8sFh-YEby",
        "outputId": "508ad109-1fbb-4c5d-a642-22b67f3638da"
      },
      "source": [
        "def valoreAssoluto(numero):\n",
        "  assoluto = abs(numero)\n",
        "  return assoluto\n",
        "\n",
        "lista = [int(n) for n in input(\"Inserisci la lista: \").split()]\n",
        "print(list(map(valoreAssoluto, lista)))"
      ],
      "execution_count": null,
      "outputs": [
        {
          "output_type": "stream",
          "name": "stdout",
          "text": [
            "Inserisci la lista: -4 -5 -6\n",
            "[4, 5, 6]\n"
          ]
        }
      ]
    },
    {
      "cell_type": "markdown",
      "metadata": {
        "id": "r1tsEXLufHtC"
      },
      "source": [
        "5. scrivere una funzione chiamata scambia che data una lista scambi il primo elemento con l'ultimo, il secondo con il penultimo e così via. Utilizzare poi la funzione in un programma che acquisisca dall'utente una lista di 10 elementi e li visualizzi scambiati."
      ]
    },
    {
      "cell_type": "code",
      "metadata": {
        "id": "zgC9ZQPEfMjB",
        "colab": {
          "base_uri": "https://localhost:8080/"
        },
        "outputId": "c7b811f0-dbb6-47f4-be6e-fa34158341c7"
      },
      "source": [
        "def scambia(lst):\n",
        "  return lst[::-1]\n",
        "\n",
        "lista = [int(n) for n in input(\"Inserisci numeri nella lista: \").split()]\n",
        "scambia(lista)"
      ],
      "execution_count": null,
      "outputs": [
        {
          "name": "stdout",
          "output_type": "stream",
          "text": [
            "Insrisci numeri nella lista: 1 2 3 4 5 6 7 8 9 0\n"
          ]
        },
        {
          "output_type": "execute_result",
          "data": {
            "text/plain": [
              "[0, 9, 8, 7, 6, 5, 4, 3, 2, 1]"
            ]
          },
          "metadata": {},
          "execution_count": 8
        }
      ]
    },
    {
      "cell_type": "markdown",
      "metadata": {
        "id": "vcExsLaDwM7u"
      },
      "source": [
        "6. scrivere una funzione lambda che dati due numeri calcoli la loro somma. Utilizzare la funzione in un programma che chieda all'utente due numeri interi e visualizzi la loro somma"
      ]
    },
    {
      "cell_type": "code",
      "metadata": {
        "colab": {
          "base_uri": "https://localhost:8080/"
        },
        "id": "pmG3DzwuwQoN",
        "outputId": "70124622-461d-4e82-e3f5-319573d6a9cb"
      },
      "source": [
        "somma = lambda n, n1: n + n1\n",
        "n, n1 =int(input(\"Inserisci primo numero: \")), int(input(\"Inserisci secondo numero: \"))  \n",
        "somma(n, n1)"
      ],
      "execution_count": null,
      "outputs": [
        {
          "name": "stdout",
          "output_type": "stream",
          "text": [
            "Inserisci primo numero: 1\n",
            "Inserisci secondo numero: 2\n"
          ]
        },
        {
          "output_type": "execute_result",
          "data": {
            "text/plain": [
              "3"
            ]
          },
          "metadata": {},
          "execution_count": 9
        }
      ]
    },
    {
      "cell_type": "markdown",
      "metadata": {
        "id": "9Shg96dFw-id"
      },
      "source": [
        "7. scrivere un programma che utilizzi una lambda function per aumentare di 10 unità tutti gli elementi di una lista di interi inserita dall'utente"
      ]
    },
    {
      "cell_type": "code",
      "metadata": {
        "colab": {
          "base_uri": "https://localhost:8080/"
        },
        "id": "3Ey-l6YWxA8H",
        "outputId": "585c09ec-6c63-4bcf-9234-e0911d97c56b"
      },
      "source": [
        "aumenta = lambda n: n + 10\n",
        "\n",
        "lista =[int(x) for x in input(\"Inserisci nuemeri nella lista: \").split()]\n",
        "for x in lista:\n",
        "  print(aumenta(x))"
      ],
      "execution_count": null,
      "outputs": [
        {
          "output_type": "stream",
          "name": "stdout",
          "text": [
            "Inserisci nuemeri nella lista: 1 2 3 4 5\n",
            "11\n",
            "12\n",
            "13\n",
            "14\n",
            "15\n"
          ]
        }
      ]
    },
    {
      "cell_type": "markdown",
      "metadata": {
        "id": "dBKG26xBxmxH"
      },
      "source": [
        "8. scrivere una funzione lambda che sostituisca il valore 0 se il parametro è negativo, il valore del parametro se è positivo. Utilizzare poi la funzione in un programma che chieda all'utente i 10 elementi di una lista e visualizzi la lista con il valore 0 al posto dei numeri negativi."
      ]
    },
    {
      "cell_type": "code",
      "metadata": {
        "colab": {
          "base_uri": "https://localhost:8080/"
        },
        "id": "wQxb9Jd8xcrQ",
        "outputId": "2a1cb9dc-bca8-4db7-8a96-e79323d01656"
      },
      "source": [
        "verifica = lambda n : n if n > 0 else 0\n",
        "lst1 = [int(n) for n in input(\"Inserisci elennti nella lista: \").split()]\n",
        "print(list(map(verifica, lst1)))\n"
      ],
      "execution_count": null,
      "outputs": [
        {
          "output_type": "stream",
          "name": "stdout",
          "text": [
            "Inserisci elennti nella lista: 1 2 3 -5 -6\n",
            "[1, 2, 3, 0, 0]\n"
          ]
        }
      ]
    },
    {
      "cell_type": "markdown",
      "metadata": {
        "id": "Ps7gXJHxyLuX"
      },
      "source": [
        "9. scrivere un programma che calcoli il fattoriale di un numero utilizzando una lambda function. Provare a realizzare una lambda function ricorsiva (per la ricorsione, google it...)"
      ]
    },
    {
      "cell_type": "code",
      "metadata": {
        "colab": {
          "base_uri": "https://localhost:8080/"
        },
        "id": "cyn9GRlRyOUY",
        "outputId": "a54e3f33-aca0-4942-8114-da91788fa749"
      },
      "source": [
        "fattoriale = (lambda func: lambda *args: func(func, *args))\n",
        "print(recursive_lambda(lambda self, x: x * self(self, x - 1) if x > 0 else 1)(int(input(\"Inserisci numero: \"))))\n",
        "#non capito molto bene"
      ],
      "execution_count": null,
      "outputs": [
        {
          "output_type": "stream",
          "name": "stdout",
          "text": [
            "Inserisci numero: 6\n",
            "720\n"
          ]
        }
      ]
    }
  ]
}